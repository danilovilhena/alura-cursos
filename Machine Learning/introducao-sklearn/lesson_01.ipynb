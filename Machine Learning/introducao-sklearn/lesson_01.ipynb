{
  "nbformat": 4,
  "nbformat_minor": 0,
  "metadata": {
    "colab": {
      "name": "lesson_01.ipynb",
      "provenance": [],
      "collapsed_sections": []
    },
    "kernelspec": {
      "name": "python3",
      "display_name": "Python 3"
    }
  },
  "cells": [
    {
      "cell_type": "markdown",
      "metadata": {
        "id": "gz2ZwwvNelA0"
      },
      "source": [
        "#Lesson 01 - Introduction to classification\n"
      ]
    },
    {
      "cell_type": "code",
      "metadata": {
        "id": "3Hy5ob6KU4_k"
      },
      "source": [
        "#Features\n",
        "# - short hair?\n",
        "# - short legs?\n",
        "# - barks?\n",
        "\n",
        "pig1 = [0,1,0]\n",
        "pig2 = [0,1,1]\n",
        "pig3 = [1,1,0]\n",
        "\n",
        "dog1 = [0,1,1]\n",
        "dog2 = [1,0,1]\n",
        "dog3 = [1,1,1]\n",
        "\n",
        "# 1 - Pig e 2 - Dog\n",
        "practice_x = [pig1,pig2,pig3,dog1,dog2,dog3]\n",
        "practice_y = [1,1,1,0,0,0]\n",
        "\n",
        "# Notes: X is the analisable data and Y are the answers"
      ],
      "execution_count": 1,
      "outputs": []
    },
    {
      "cell_type": "code",
      "metadata": {
        "id": "edEcOHeuVfwi",
        "outputId": "719171ce-282f-4a30-ed49-bce0ca6d585f",
        "colab": {
          "base_uri": "https://localhost:8080/",
          "height": 85
        }
      },
      "source": [
        "# Import library and initialization\n",
        "\n",
        "from sklearn.svm import LinearSVC\n",
        "\n",
        "model = LinearSVC()\n",
        "model.fit(practice_x,practice_y)"
      ],
      "execution_count": 2,
      "outputs": [
        {
          "output_type": "execute_result",
          "data": {
            "text/plain": [
              "LinearSVC(C=1.0, class_weight=None, dual=True, fit_intercept=True,\n",
              "          intercept_scaling=1, loss='squared_hinge', max_iter=1000,\n",
              "          multi_class='ovr', penalty='l2', random_state=None, tol=0.0001,\n",
              "          verbose=0)"
            ]
          },
          "metadata": {
            "tags": []
          },
          "execution_count": 2
        }
      ]
    },
    {
      "cell_type": "code",
      "metadata": {
        "id": "qVXz0wAyWrvB",
        "outputId": "fb50bd11-a87b-43b5-deb0-7bbe0f2ba451",
        "colab": {
          "base_uri": "https://localhost:8080/",
          "height": 34
        }
      },
      "source": [
        "# First predict\n",
        "\n",
        "random_animal = [1,1,1]\n",
        "model.predict([random_animal])"
      ],
      "execution_count": 3,
      "outputs": [
        {
          "output_type": "execute_result",
          "data": {
            "text/plain": [
              "array([0])"
            ]
          },
          "metadata": {
            "tags": []
          },
          "execution_count": 3
        }
      ]
    },
    {
      "cell_type": "code",
      "metadata": {
        "id": "5NA1-msRW3n2"
      },
      "source": [
        "# More complex predict\n",
        "\n",
        "unknown1 = [1,1,1]\n",
        "unknown2 = [1,1,0]\n",
        "unknown3 = [0,1,1]\n",
        "\n",
        "x = [unknown1,unknown2,unknown3]\n",
        "y = [0,1,1]\n",
        "\n",
        "predictions = model.predict(x)"
      ],
      "execution_count": 4,
      "outputs": []
    },
    {
      "cell_type": "code",
      "metadata": {
        "id": "8V2a2o-qYFUr",
        "outputId": "b69c24c1-8997-4cc1-d7d8-b22eba163868",
        "colab": {
          "base_uri": "https://localhost:8080/",
          "height": 34
        }
      },
      "source": [
        "# Analysing output predictions\n",
        "right_answers = (predictions == y).sum()\n",
        "total = len(x)\n",
        "\n",
        "success_rate = (right_answers / total) * 100\n",
        "print(\"Success rate: %.2f\" % success_rate)"
      ],
      "execution_count": 10,
      "outputs": [
        {
          "output_type": "stream",
          "text": [
            "Success rate: 66.67\n"
          ],
          "name": "stdout"
        }
      ]
    },
    {
      "cell_type": "code",
      "metadata": {
        "id": "dZ2AlZItb5Mu",
        "outputId": "a1866eb5-cf78-4834-90d5-a9caa6752b12",
        "colab": {
          "base_uri": "https://localhost:8080/",
          "height": 34
        }
      },
      "source": [
        "# Analysing output predictions using SKLearn\n",
        "from sklearn.metrics import accuracy_score\n",
        "\n",
        "success_rate = accuracy_score(y, predictions) * 100\n",
        "print(\"Success rate: %.2f\" % success_rate)"
      ],
      "execution_count": null,
      "outputs": [
        {
          "output_type": "stream",
          "text": [
            "Success rate: 66.67\n"
          ],
          "name": "stdout"
        }
      ]
    }
  ]
}