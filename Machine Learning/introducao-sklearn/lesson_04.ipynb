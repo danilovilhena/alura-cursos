{
  "nbformat": 4,
  "nbformat_minor": 0,
  "metadata": {
    "colab": {
      "name": "lesson_04.ipynb",
      "provenance": [],
      "collapsed_sections": []
    },
    "kernelspec": {
      "name": "python3",
      "display_name": "Python 3"
    }
  },
  "cells": [
    {
      "cell_type": "code",
      "metadata": {
        "id": "Vh-A_Gr5x-CX"
      },
      "source": [
        "# Pandas initialization\n",
        "import pandas as pd\n",
        "\n",
        "uri = \"https://gist.githubusercontent.com/guilhermesilveira/4d1d4a16ccbf6ea4e0a64a38a24ec884/raw/afd05cb0c796d18f3f5a6537053ded308ba94bf7/car-prices.csv\"\n",
        "data = pd.read_csv(uri)"
      ],
      "execution_count": 1,
      "outputs": []
    },
    {
      "cell_type": "code",
      "metadata": {
        "id": "hUVq7heL3Wyi"
      },
      "source": [
        "# Organizing the data\n",
        "from datetime import datetime\n",
        "\n",
        "switch = {'no' : 0, 'yes' : 1}\n",
        "data.sold = data.sold.map(switch)\n",
        "\n",
        "current_year = datetime.today().year\n",
        "data['age'] = current_year - data.model_year\n",
        "\n",
        "data['km_per_year'] = data.mileage_per_year * 1.60934\n",
        "\n",
        "data = data.drop(columns=[\"Unnamed: 0\", \"mileage_per_year\", \"model_year\"])"
      ],
      "execution_count": 2,
      "outputs": []
    },
    {
      "cell_type": "code",
      "metadata": {
        "id": "NJ56p2Bm3lIo",
        "outputId": "e3114025-8587-400f-d91e-e1d16ec9319c",
        "colab": {
          "base_uri": "https://localhost:8080/",
          "height": 102
        }
      },
      "source": [
        "import numpy as np\n",
        "from sklearn.model_selection import train_test_split\n",
        "from sklearn.svm import LinearSVC\n",
        "from sklearn.metrics import accuracy_score\n",
        "\n",
        "x = data[[\"price\", \"age\", \"km_per_year\"]]\n",
        "y = data [[\"sold\"]]\n",
        "np.random.seed(15)\n",
        "\n",
        "train_x, test_x, train_y, test_y = train_test_split(x, y, test_size = 0.25, stratify = y)\n",
        "model = LinearSVC()\n",
        "model.fit(train_x,train_y)\n",
        "accuracy = model.score(test_x, test_y) * 100\n",
        "print(\"Accuracy: %.2f%%\" % accuracy)"
      ],
      "execution_count": 20,
      "outputs": [
        {
          "output_type": "stream",
          "text": [
            "/usr/local/lib/python3.6/dist-packages/sklearn/utils/validation.py:760: DataConversionWarning: A column-vector y was passed when a 1d array was expected. Please change the shape of y to (n_samples, ), for example using ravel().\n",
            "  y = column_or_1d(y, warn=True)\n"
          ],
          "name": "stderr"
        },
        {
          "output_type": "stream",
          "text": [
            "Accuracy: 52.32%\n"
          ],
          "name": "stdout"
        },
        {
          "output_type": "stream",
          "text": [
            "/usr/local/lib/python3.6/dist-packages/sklearn/svm/_base.py:947: ConvergenceWarning: Liblinear failed to converge, increase the number of iterations.\n",
            "  \"the number of iterations.\", ConvergenceWarning)\n"
          ],
          "name": "stderr"
        }
      ]
    },
    {
      "cell_type": "code",
      "metadata": {
        "id": "sLeMlKmq50wz",
        "outputId": "bad91966-0d5b-4ff1-f4b8-728f79e40a56",
        "colab": {
          "base_uri": "https://localhost:8080/",
          "height": 68
        }
      },
      "source": [
        "from sklearn.dummy import DummyClassifier\n",
        "from sklearn.metrics import accuracy_score\n",
        "\n",
        "dummy = DummyClassifier()\n",
        "dummy.fit(train_x, train_y)\n",
        "accuracy = dummy.score(test_x, test_y) * 100\n",
        "\n",
        "print(\"Dummy accuracy: %.2f%%\" % accuracy)"
      ],
      "execution_count": 19,
      "outputs": [
        {
          "output_type": "stream",
          "text": [
            "Dummy accuracy: 50.64%\n"
          ],
          "name": "stdout"
        },
        {
          "output_type": "stream",
          "text": [
            "/usr/local/lib/python3.6/dist-packages/sklearn/dummy.py:132: FutureWarning: The default value of strategy will change from stratified to prior in 0.24.\n",
            "  \"stratified to prior in 0.24.\", FutureWarning)\n"
          ],
          "name": "stderr"
        }
      ]
    },
    {
      "cell_type": "code",
      "metadata": {
        "id": "2u9oZKVq8E8a",
        "outputId": "a6df9c17-8b7e-4415-bfc3-5d42fa99035e",
        "colab": {
          "base_uri": "https://localhost:8080/",
          "height": 68
        }
      },
      "source": [
        "from sklearn.preprocessing import StandardScaler\n",
        "from sklearn.model_selection import train_test_split\n",
        "from sklearn.svm import SVC\n",
        "from sklearn.metrics import accuracy_score\n",
        "\n",
        "x = data[[\"price\", \"age\", \"km_per_year\"]]\n",
        "y = data [[\"sold\"]]\n",
        "np.random.seed(15)\n",
        "\n",
        "raw_train_x, raw_test_x, train_y, test_y = train_test_split(x, y, test_size = 0.25, stratify = y)\n",
        "\n",
        "scaler = StandardScaler()\n",
        "scaler.fit(train_x)\n",
        "train_x = scaler.transform(raw_train_x)\n",
        "test_x = scaler.transform(raw_test_x)\n",
        "\n",
        "model = SVC()\n",
        "model.fit(train_x,train_y)\n",
        "accuracy = model.score(test_x, test_y) * 100\n",
        "print(\"Accuracy: %.2f%%\" % accuracy)"
      ],
      "execution_count": 24,
      "outputs": [
        {
          "output_type": "stream",
          "text": [
            "/usr/local/lib/python3.6/dist-packages/sklearn/utils/validation.py:760: DataConversionWarning: A column-vector y was passed when a 1d array was expected. Please change the shape of y to (n_samples, ), for example using ravel().\n",
            "  y = column_or_1d(y, warn=True)\n"
          ],
          "name": "stderr"
        },
        {
          "output_type": "stream",
          "text": [
            "Accuracy: 77.48%\n"
          ],
          "name": "stdout"
        }
      ]
    },
    {
      "cell_type": "markdown",
      "metadata": {
        "id": "LRTWxrMo9UBL"
      },
      "source": [
        "# Decision Tree\n"
      ]
    },
    {
      "cell_type": "code",
      "metadata": {
        "id": "YTfu3phU9V1F",
        "outputId": "1ffe6b41-5a7b-4795-abe8-03716100e68a",
        "colab": {
          "base_uri": "https://localhost:8080/",
          "height": 34
        }
      },
      "source": [
        "from sklearn.preprocessing import StandardScaler\n",
        "from sklearn.model_selection import train_test_split\n",
        "from sklearn.tree import DecisionTreeClassifier\n",
        "from sklearn.metrics import accuracy_score\n",
        "\n",
        "x = data[[\"price\", \"age\", \"km_per_year\"]]\n",
        "y = data [[\"sold\"]]\n",
        "np.random.seed(15)\n",
        "\n",
        "train_x, test_x, train_y, test_y = train_test_split(x, y, test_size = 0.25, stratify = y)\n",
        "\n",
        "model = DecisionTreeClassifier(max_depth=2)\n",
        "model.fit(train_x,train_y)\n",
        "accuracy = model.score(test_x, test_y) * 100\n",
        "print(\"Accuracy: %.2f%%\" % accuracy)"
      ],
      "execution_count": 34,
      "outputs": [
        {
          "output_type": "stream",
          "text": [
            "Accuracy: 76.48%\n"
          ],
          "name": "stdout"
        }
      ]
    },
    {
      "cell_type": "code",
      "metadata": {
        "id": "65p5uUVn9skJ",
        "outputId": "67befb91-7604-4806-978a-d2d702a0972e",
        "colab": {
          "base_uri": "https://localhost:8080/",
          "height": 440
        }
      },
      "source": [
        "from sklearn.tree import export_graphviz\n",
        "import graphviz\n",
        "\n",
        "features = x.columns\n",
        "dot_data = export_graphviz(model, feature_names=features, filled=True, rounded=True, class_names=[\"no\", \"yes\"])\n",
        "graph = graphviz.Source(dot_data)\n",
        "graph"
      ],
      "execution_count": 35,
      "outputs": [
        {
          "output_type": "execute_result",
          "data": {
            "text/plain": [
              "<graphviz.files.Source at 0x7fad3eb90dd8>"
            ],
            "image/svg+xml": "<?xml version=\"1.0\" encoding=\"UTF-8\" standalone=\"no\"?>\n<!DOCTYPE svg PUBLIC \"-//W3C//DTD SVG 1.1//EN\"\n \"http://www.w3.org/Graphics/SVG/1.1/DTD/svg11.dtd\">\n<!-- Generated by graphviz version 2.40.1 (20161225.0304)\n -->\n<!-- Title: Tree Pages: 1 -->\n<svg width=\"628pt\" height=\"314pt\"\n viewBox=\"0.00 0.00 628.00 314.00\" xmlns=\"http://www.w3.org/2000/svg\" xmlns:xlink=\"http://www.w3.org/1999/xlink\">\n<g id=\"graph0\" class=\"graph\" transform=\"scale(1 1) rotate(0) translate(4 310)\">\n<title>Tree</title>\n<polygon fill=\"#ffffff\" stroke=\"transparent\" points=\"-4,4 -4,-310 624,-310 624,4 -4,4\"/>\n<!-- 0 -->\n<g id=\"node1\" class=\"node\">\n<title>0</title>\n<path fill=\"#c8e4f8\" stroke=\"#000000\" d=\"M361.5,-306C361.5,-306 236.5,-306 236.5,-306 230.5,-306 224.5,-300 224.5,-294 224.5,-294 224.5,-235 224.5,-235 224.5,-229 230.5,-223 236.5,-223 236.5,-223 361.5,-223 361.5,-223 367.5,-223 373.5,-229 373.5,-235 373.5,-235 373.5,-294 373.5,-294 373.5,-300 367.5,-306 361.5,-306\"/>\n<text text-anchor=\"middle\" x=\"299\" y=\"-290.8\" font-family=\"Helvetica,sans-Serif\" font-size=\"14.00\" fill=\"#000000\">price &lt;= 60049.471</text>\n<text text-anchor=\"middle\" x=\"299\" y=\"-275.8\" font-family=\"Helvetica,sans-Serif\" font-size=\"14.00\" fill=\"#000000\">gini = 0.487</text>\n<text text-anchor=\"middle\" x=\"299\" y=\"-260.8\" font-family=\"Helvetica,sans-Serif\" font-size=\"14.00\" fill=\"#000000\">samples = 7500</text>\n<text text-anchor=\"middle\" x=\"299\" y=\"-245.8\" font-family=\"Helvetica,sans-Serif\" font-size=\"14.00\" fill=\"#000000\">value = [3150, 4350]</text>\n<text text-anchor=\"middle\" x=\"299\" y=\"-230.8\" font-family=\"Helvetica,sans-Serif\" font-size=\"14.00\" fill=\"#000000\">class = yes</text>\n</g>\n<!-- 1 -->\n<g id=\"node2\" class=\"node\">\n<title>1</title>\n<path fill=\"#52aae8\" stroke=\"#000000\" d=\"M265,-187C265,-187 147,-187 147,-187 141,-187 135,-181 135,-175 135,-175 135,-116 135,-116 135,-110 141,-104 147,-104 147,-104 265,-104 265,-104 271,-104 277,-110 277,-116 277,-116 277,-175 277,-175 277,-181 271,-187 265,-187\"/>\n<text text-anchor=\"middle\" x=\"206\" y=\"-171.8\" font-family=\"Helvetica,sans-Serif\" font-size=\"14.00\" fill=\"#000000\">price &lt;= 40083.385</text>\n<text text-anchor=\"middle\" x=\"206\" y=\"-156.8\" font-family=\"Helvetica,sans-Serif\" font-size=\"14.00\" fill=\"#000000\">gini = 0.202</text>\n<text text-anchor=\"middle\" x=\"206\" y=\"-141.8\" font-family=\"Helvetica,sans-Serif\" font-size=\"14.00\" fill=\"#000000\">samples = 3261</text>\n<text text-anchor=\"middle\" x=\"206\" y=\"-126.8\" font-family=\"Helvetica,sans-Serif\" font-size=\"14.00\" fill=\"#000000\">value = [372, 2889]</text>\n<text text-anchor=\"middle\" x=\"206\" y=\"-111.8\" font-family=\"Helvetica,sans-Serif\" font-size=\"14.00\" fill=\"#000000\">class = yes</text>\n</g>\n<!-- 0&#45;&gt;1 -->\n<g id=\"edge1\" class=\"edge\">\n<title>0&#45;&gt;1</title>\n<path fill=\"none\" stroke=\"#000000\" d=\"M266.4731,-222.8796C259.5049,-213.9633 252.0753,-204.4565 244.8944,-195.268\"/>\n<polygon fill=\"#000000\" stroke=\"#000000\" points=\"247.5812,-193.0221 238.6657,-187.2981 242.0657,-197.3326 247.5812,-193.0221\"/>\n<text text-anchor=\"middle\" x=\"235.6225\" y=\"-208.4122\" font-family=\"Helvetica,sans-Serif\" font-size=\"14.00\" fill=\"#000000\">True</text>\n</g>\n<!-- 4 -->\n<g id=\"node5\" class=\"node\">\n<title>4</title>\n<path fill=\"#f3c3a1\" stroke=\"#000000\" d=\"M479,-187C479,-187 307,-187 307,-187 301,-187 295,-181 295,-175 295,-175 295,-116 295,-116 295,-110 301,-104 307,-104 307,-104 479,-104 479,-104 485,-104 491,-110 491,-116 491,-116 491,-175 491,-175 491,-181 485,-187 479,-187\"/>\n<text text-anchor=\"middle\" x=\"393\" y=\"-171.8\" font-family=\"Helvetica,sans-Serif\" font-size=\"14.00\" fill=\"#000000\">km_per_year &lt;= 24124.006</text>\n<text text-anchor=\"middle\" x=\"393\" y=\"-156.8\" font-family=\"Helvetica,sans-Serif\" font-size=\"14.00\" fill=\"#000000\">gini = 0.452</text>\n<text text-anchor=\"middle\" x=\"393\" y=\"-141.8\" font-family=\"Helvetica,sans-Serif\" font-size=\"14.00\" fill=\"#000000\">samples = 4239</text>\n<text text-anchor=\"middle\" x=\"393\" y=\"-126.8\" font-family=\"Helvetica,sans-Serif\" font-size=\"14.00\" fill=\"#000000\">value = [2778, 1461]</text>\n<text text-anchor=\"middle\" x=\"393\" y=\"-111.8\" font-family=\"Helvetica,sans-Serif\" font-size=\"14.00\" fill=\"#000000\">class = no</text>\n</g>\n<!-- 0&#45;&gt;4 -->\n<g id=\"edge4\" class=\"edge\">\n<title>0&#45;&gt;4</title>\n<path fill=\"none\" stroke=\"#000000\" d=\"M331.8766,-222.8796C338.9197,-213.9633 346.4293,-204.4565 353.6874,-195.268\"/>\n<polygon fill=\"#000000\" stroke=\"#000000\" points=\"356.5309,-197.3147 359.983,-187.2981 351.0379,-192.9757 356.5309,-197.3147\"/>\n<text text-anchor=\"middle\" x=\"362.8973\" y=\"-208.4276\" font-family=\"Helvetica,sans-Serif\" font-size=\"14.00\" fill=\"#000000\">False</text>\n</g>\n<!-- 2 -->\n<g id=\"node3\" class=\"node\">\n<title>2</title>\n<path fill=\"#399de5\" stroke=\"#000000\" d=\"M112,-68C112,-68 12,-68 12,-68 6,-68 0,-62 0,-56 0,-56 0,-12 0,-12 0,-6 6,0 12,0 12,0 112,0 112,0 118,0 124,-6 124,-12 124,-12 124,-56 124,-56 124,-62 118,-68 112,-68\"/>\n<text text-anchor=\"middle\" x=\"62\" y=\"-52.8\" font-family=\"Helvetica,sans-Serif\" font-size=\"14.00\" fill=\"#000000\">gini = 0.0</text>\n<text text-anchor=\"middle\" x=\"62\" y=\"-37.8\" font-family=\"Helvetica,sans-Serif\" font-size=\"14.00\" fill=\"#000000\">samples = 1431</text>\n<text text-anchor=\"middle\" x=\"62\" y=\"-22.8\" font-family=\"Helvetica,sans-Serif\" font-size=\"14.00\" fill=\"#000000\">value = [0, 1431]</text>\n<text text-anchor=\"middle\" x=\"62\" y=\"-7.8\" font-family=\"Helvetica,sans-Serif\" font-size=\"14.00\" fill=\"#000000\">class = yes</text>\n</g>\n<!-- 1&#45;&gt;2 -->\n<g id=\"edge2\" class=\"edge\">\n<title>1&#45;&gt;2</title>\n<path fill=\"none\" stroke=\"#000000\" d=\"M152.3797,-103.9815C139.9167,-94.3313 126.6662,-84.0714 114.2627,-74.4673\"/>\n<polygon fill=\"#000000\" stroke=\"#000000\" points=\"116.3005,-71.6186 106.2508,-68.2637 112.0149,-77.1534 116.3005,-71.6186\"/>\n</g>\n<!-- 3 -->\n<g id=\"node4\" class=\"node\">\n<title>3</title>\n<path fill=\"#6cb6ec\" stroke=\"#000000\" d=\"M270,-68C270,-68 154,-68 154,-68 148,-68 142,-62 142,-56 142,-56 142,-12 142,-12 142,-6 148,0 154,0 154,0 270,0 270,0 276,0 282,-6 282,-12 282,-12 282,-56 282,-56 282,-62 276,-68 270,-68\"/>\n<text text-anchor=\"middle\" x=\"212\" y=\"-52.8\" font-family=\"Helvetica,sans-Serif\" font-size=\"14.00\" fill=\"#000000\">gini = 0.324</text>\n<text text-anchor=\"middle\" x=\"212\" y=\"-37.8\" font-family=\"Helvetica,sans-Serif\" font-size=\"14.00\" fill=\"#000000\">samples = 1830</text>\n<text text-anchor=\"middle\" x=\"212\" y=\"-22.8\" font-family=\"Helvetica,sans-Serif\" font-size=\"14.00\" fill=\"#000000\">value = [372, 1458]</text>\n<text text-anchor=\"middle\" x=\"212\" y=\"-7.8\" font-family=\"Helvetica,sans-Serif\" font-size=\"14.00\" fill=\"#000000\">class = yes</text>\n</g>\n<!-- 1&#45;&gt;3 -->\n<g id=\"edge3\" class=\"edge\">\n<title>1&#45;&gt;3</title>\n<path fill=\"none\" stroke=\"#000000\" d=\"M208.2342,-103.9815C208.6842,-95.618 209.1589,-86.7965 209.6139,-78.3409\"/>\n<polygon fill=\"#000000\" stroke=\"#000000\" points=\"213.1137,-78.4373 210.1562,-68.2637 206.1238,-78.0611 213.1137,-78.4373\"/>\n</g>\n<!-- 5 -->\n<g id=\"node6\" class=\"node\">\n<title>5</title>\n<path fill=\"#fcf0e8\" stroke=\"#000000\" d=\"M449.5,-68C449.5,-68 324.5,-68 324.5,-68 318.5,-68 312.5,-62 312.5,-56 312.5,-56 312.5,-12 312.5,-12 312.5,-6 318.5,0 324.5,0 324.5,0 449.5,0 449.5,0 455.5,0 461.5,-6 461.5,-12 461.5,-12 461.5,-56 461.5,-56 461.5,-62 455.5,-68 449.5,-68\"/>\n<text text-anchor=\"middle\" x=\"387\" y=\"-52.8\" font-family=\"Helvetica,sans-Serif\" font-size=\"14.00\" fill=\"#000000\">gini = 0.498</text>\n<text text-anchor=\"middle\" x=\"387\" y=\"-37.8\" font-family=\"Helvetica,sans-Serif\" font-size=\"14.00\" fill=\"#000000\">samples = 2638</text>\n<text text-anchor=\"middle\" x=\"387\" y=\"-22.8\" font-family=\"Helvetica,sans-Serif\" font-size=\"14.00\" fill=\"#000000\">value = [1402, 1236]</text>\n<text text-anchor=\"middle\" x=\"387\" y=\"-7.8\" font-family=\"Helvetica,sans-Serif\" font-size=\"14.00\" fill=\"#000000\">class = no</text>\n</g>\n<!-- 4&#45;&gt;5 -->\n<g id=\"edge5\" class=\"edge\">\n<title>4&#45;&gt;5</title>\n<path fill=\"none\" stroke=\"#000000\" d=\"M390.7658,-103.9815C390.3158,-95.618 389.8411,-86.7965 389.3861,-78.3409\"/>\n<polygon fill=\"#000000\" stroke=\"#000000\" points=\"392.8762,-78.0611 388.8438,-68.2637 385.8863,-78.4373 392.8762,-78.0611\"/>\n</g>\n<!-- 6 -->\n<g id=\"node7\" class=\"node\">\n<title>6</title>\n<path fill=\"#e99659\" stroke=\"#000000\" d=\"M608,-68C608,-68 492,-68 492,-68 486,-68 480,-62 480,-56 480,-56 480,-12 480,-12 480,-6 486,0 492,0 492,0 608,0 608,0 614,0 620,-6 620,-12 620,-12 620,-56 620,-56 620,-62 614,-68 608,-68\"/>\n<text text-anchor=\"middle\" x=\"550\" y=\"-52.8\" font-family=\"Helvetica,sans-Serif\" font-size=\"14.00\" fill=\"#000000\">gini = 0.242</text>\n<text text-anchor=\"middle\" x=\"550\" y=\"-37.8\" font-family=\"Helvetica,sans-Serif\" font-size=\"14.00\" fill=\"#000000\">samples = 1601</text>\n<text text-anchor=\"middle\" x=\"550\" y=\"-22.8\" font-family=\"Helvetica,sans-Serif\" font-size=\"14.00\" fill=\"#000000\">value = [1376, 225]</text>\n<text text-anchor=\"middle\" x=\"550\" y=\"-7.8\" font-family=\"Helvetica,sans-Serif\" font-size=\"14.00\" fill=\"#000000\">class = no</text>\n</g>\n<!-- 4&#45;&gt;6 -->\n<g id=\"edge6\" class=\"edge\">\n<title>4&#45;&gt;6</title>\n<path fill=\"none\" stroke=\"#000000\" d=\"M451.461,-103.9815C465.2508,-94.1881 479.9247,-83.7668 493.6205,-74.0402\"/>\n<polygon fill=\"#000000\" stroke=\"#000000\" points=\"495.8785,-76.7295 502.005,-68.0856 491.8253,-71.0223 495.8785,-76.7295\"/>\n</g>\n</g>\n</svg>\n"
          },
          "metadata": {
            "tags": []
          },
          "execution_count": 35
        }
      ]
    }
  ]
}